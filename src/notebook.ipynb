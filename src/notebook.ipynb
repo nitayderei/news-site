{
 "cells": [
  {
   "cell_type": "code",
   "execution_count": 26,
   "metadata": {},
   "outputs": [
    {
     "name": "stdout",
     "output_type": "stream",
     "text": [
      "Mozilla/5.0 (Windows NT 10.0; Win64; x64) AppleWebKit/537.36 (KHTML, like Gecko) Chrome/117.0.0.0 Safari/537.36\n",
      "-1\n"
     ]
    }
   ],
   "source": [
    "from bs4 import BeautifulSoup\n",
    "import urllib3\n",
    "import urllib\n",
    "import urllib.parse\n",
    "from dataclasses import dataclass\n",
    "from pprint import pprint\n",
    "import requests\n",
    "from selenium import webdriver\n",
    "import lxml\n",
    "import time\n",
    "# import streamlit as st\n",
    "\n",
    "news_urls = [\n",
    "    # (\"https://www.ynet.co.il\", \"/news/article\"),\n",
    "    # (\"https://www.israelhayom.co.il\", \"/news\"),\n",
    "    # (\"https://www.hamal.co.il/main\", \"/main\"),\n",
    "    (\"https://n12.co.il\", \"/news\"),\n",
    "]\n",
    "\n",
    "\n",
    "@dataclass\n",
    "class UrlData:\n",
    "    url: str\n",
    "    source_name: str\n",
    "    title: str\n",
    "\n",
    "\n",
    "# http = urllib3.PoolManager()\n",
    "data = []\n",
    "limit = 25\n",
    "options = webdriver.ChromeOptions()\n",
    "options.add_argument(\"--headless=new\")\n",
    "options.add_argument(\"--no-sandbox\")\n",
    "options.add_argument(\"user-agent=Mozilla/5.0 (Windows NT 10.0; Win64; x64) AppleWebKit/537.36 (KHTML, like Gecko) Chrome/117.0.0.0 Safari/537.36\")\n",
    "wd = webdriver.Chrome(options=options)\n",
    "\n",
    "for url, fil in news_urls:\n",
    "    counter = 0\n",
    "    wd.get(url)\n",
    "    time.sleep(5)\n",
    "    html = wd.page_source\n",
    "    with open('f.html', 'w') as file:\n",
    "        file.write(html)\n",
    "    print(html.find('<a>'))\n",
    "    soup = BeautifulSoup(html, 'lxml')\n",
    "    for link in soup.find_all('a'):\n",
    "        link_url = link.get('href')\n",
    "\n",
    "        if len(link.text) > 20 and fil in link_url:\n",
    "            counter += 1\n",
    "            if 'http' not in link_url:\n",
    "                link_url = url.split(fil)[0] + urllib.parse.unquote(link_url)\n",
    "            print(link_url, link.get_text().strip())\n",
    "        if counter == limit:\n",
    "            break\n",
    "wd.quit()\n"
   ]
  }
 ],
 "metadata": {
  "kernelspec": {
   "display_name": "Python 3",
   "language": "python",
   "name": "python3"
  },
  "language_info": {
   "codemirror_mode": {
    "name": "ipython",
    "version": 3
   },
   "file_extension": ".py",
   "mimetype": "text/x-python",
   "name": "python",
   "nbconvert_exporter": "python",
   "pygments_lexer": "ipython3",
   "version": "3.11.3"
  },
  "orig_nbformat": 4
 },
 "nbformat": 4,
 "nbformat_minor": 2
}
